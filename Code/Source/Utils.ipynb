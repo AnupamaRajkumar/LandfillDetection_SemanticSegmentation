{
  "nbformat": 4,
  "nbformat_minor": 0,
  "metadata": {
    "colab": {
      "name": "Utils.ipynb",
      "provenance": []
    },
    "kernelspec": {
      "name": "python3",
      "display_name": "Python 3"
    },
    "language_info": {
      "name": "python"
    }
  },
  "cells": [
    {
      "cell_type": "markdown",
      "metadata": {
        "id": "4x7Ijhbd5g3z"
      },
      "source": [
        "Setting up solaris"
      ]
    },
    {
      "cell_type": "code",
      "metadata": {
        "id": "7FEclHR-iGrE"
      },
      "source": [
        "!add-apt-repository ppa:ubuntugis/ppa -y\n",
        "!apt-get update\n",
        "!apt-get install python-numpy gdal-bin libgdal-dev python3-rtree\n",
        "\n",
        "!pip install solaris==0.2.0"
      ],
      "execution_count": null,
      "outputs": []
    },
    {
      "cell_type": "markdown",
      "metadata": {
        "id": "aevbBL7U5n74"
      },
      "source": [
        "Install other necessary packages"
      ]
    },
    {
      "cell_type": "code",
      "metadata": {
        "id": "KnMM3y_GjuQi"
      },
      "source": [
        "!pip install rasterio\n",
        "!pip install geopandas\n",
        "!pip install descartes\n",
        "!pip install rio-tiler\n",
        "!pip3 install py7zr"
      ],
      "execution_count": null,
      "outputs": []
    },
    {
      "cell_type": "markdown",
      "metadata": {
        "id": "WRGFP1YZ50kv"
      },
      "source": [
        "Importing necessary packages"
      ]
    },
    {
      "cell_type": "code",
      "metadata": {
        "id": "sp9i_s40y6cA"
      },
      "source": [
        "import torch\n",
        "import rasterio\n",
        "import py7zr\n",
        "import os\n",
        "import numpy as np\n",
        "import matplotlib.pyplot as plt\n",
        "from PIL import Image\n",
        "from pycocotools.coco import COCO\n",
        "from torch import nn\n",
        "from torchvision import datasets, transforms, models"
      ],
      "execution_count": 21,
      "outputs": []
    },
    {
      "cell_type": "markdown",
      "metadata": {
        "id": "BHWp0rBvNYjm"
      },
      "source": [
        "Download Multispectral dataset from dropbox and extract folder"
      ]
    },
    {
      "cell_type": "code",
      "metadata": {
        "id": "RrjcfnnqyYuy"
      },
      "source": [
        "def DownloadMultiSpectralDataset():\n",
        "  !wget https://www.dropbox.com/s/nj1iddz4dhvdwa1/Multispectral.7z?dl=0\n",
        "  os.rename('Multispectral.7z?dl=0', 'Multispectral.7z')\n",
        "  ExtractImages('Multispectral.7z', './')"
      ],
      "execution_count": 28,
      "outputs": []
    },
    {
      "cell_type": "markdown",
      "metadata": {
        "id": "sKlZj-I0CkcJ"
      },
      "source": [
        "Download Pansharpened dataset from Dropbox and extract folder"
      ]
    },
    {
      "cell_type": "code",
      "metadata": {
        "id": "-tAZ6NlZzKd6"
      },
      "source": [
        "def DownloadPanSharpenedDataset():\n",
        "  !wget https://www.dropbox.com/s/qb0dfxjafuodc27/Pansharpened.7z?dl=0\n",
        "  os.rename('Pansharpened.7z?dl=0', 'Pansharpened.7z')\n",
        "  ExtractImages('Pansharpened.7z', './')\n"
      ],
      "execution_count": 38,
      "outputs": []
    },
    {
      "cell_type": "markdown",
      "metadata": {
        "id": "xVFDZK8ICmxP"
      },
      "source": [
        "Extract 7z folders"
      ]
    },
    {
      "cell_type": "code",
      "metadata": {
        "id": "6nHU_NGiXRT2"
      },
      "source": [
        "def ExtractImages(in_path, out_path):\n",
        "  with py7zr.SevenZipFile(in_path, mode='r') as z:\n",
        "    z.extractall(out_path)"
      ],
      "execution_count": 36,
      "outputs": []
    },
    {
      "cell_type": "code",
      "metadata": {
        "id": "T1d6w85-1EUZ"
      },
      "source": [
        "DownloadPanSharpenedDataset()"
      ],
      "execution_count": null,
      "outputs": []
    },
    {
      "cell_type": "code",
      "metadata": {
        "id": "ksOr6q6uXPnj"
      },
      "source": [
        "in_path = './Pansharpened/HR_TIF_Files.7z'     #path of zip files\n",
        "out_path = './LandfillDataset'                                   #output path of extracted files\n",
        "ExtractImages(in_path, out_path)"
      ],
      "execution_count": 40,
      "outputs": []
    }
  ]
}